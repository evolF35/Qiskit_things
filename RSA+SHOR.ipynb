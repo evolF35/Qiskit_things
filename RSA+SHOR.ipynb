{
 "cells": [
  {
   "cell_type": "code",
   "execution_count": 51,
   "id": "4c268172",
   "metadata": {},
   "outputs": [
    {
     "name": "stdout",
     "output_type": "stream",
     "text": [
      "PublicKey(634830237466979209, 65537)\n",
      "PrivateKey(634830237466979209, 65537, 355730435856098305, 1315656737, 482519657)\n"
     ]
    }
   ],
   "source": [
    "import rsa\n",
    "#https://www.rfc-editor.org/rfc/rfc2313.html\n",
    "\n",
    "(pubkey, privkey) = rsa.newkeys(60)\n",
    "\n",
    "\"\"\"\n",
    " RSAPublicKey ::= SEQUENCE {\n",
    " modulus INTEGER, -- n\n",
    " publicExponent INTEGER -- e }\n",
    "\"\"\"\n",
    "print(pubkey)\n",
    "\n",
    "\"\"\"\n",
    " RSAPrivateKey ::= SEQUENCE {\n",
    " modulus INTEGER, -- n\n",
    " publicExponent INTEGER, -- e\n",
    " privateExponent INTEGER, -- d\n",
    " prime1 INTEGER, -- p\n",
    " prime2 INTEGER, -- q}\n",
    "\"\"\"\n",
    "print(privkey)\n"
   ]
  },
  {
   "cell_type": "code",
   "execution_count": 52,
   "id": "100f42e6",
   "metadata": {},
   "outputs": [
    {
     "name": "stdout",
     "output_type": "stream",
     "text": [
      "482519657\n",
      "1315656737.0\n",
      "It took:  15.131419897079468  seconds\n"
     ]
    }
   ],
   "source": [
    "#https://www.geeksforgeeks.org/print-all-prime-factors-of-a-given-number/\n",
    "# Python program to print prime factors\n",
    "\n",
    "\n",
    "#https://blender.stackexchange.com/questions/84980/print-a-timer-in-python-to-see-how-long-to-run-a-script \n",
    "import time\n",
    "import random\n",
    "\n",
    "then = time.time() #Time before the operations start\n",
    "\n",
    "        \n",
    "import math\n",
    " \n",
    "# A function to print all prime factors of\n",
    "# a given number n\n",
    "def primeFactors(n):\n",
    "     \n",
    "    # Print the number of two's that divide n\n",
    "    while n % 2 == 0:\n",
    "        print(2),\n",
    "        n = n / 2\n",
    "         \n",
    "    # n must be odd at this point\n",
    "    # so a skip of 2 ( i = i + 2) can be used\n",
    "    for i in range(3,int(math.sqrt(n))+1,2):\n",
    "         \n",
    "        # while i divides n , print i and divide n\n",
    "        while n % i== 0:\n",
    "            print(i),\n",
    "            n = n / i\n",
    "             \n",
    "    # Condition if n is a prime\n",
    "    # number greater than 2\n",
    "    if n > 2:\n",
    "        print(n)\n",
    "         \n",
    "# Driver Program to test above function\n",
    " \n",
    "n = 634830237466979209\n",
    "primeFactors(n)\n",
    "\n",
    "\n",
    " \n",
    "# This code is contributed by Harshit Agrawal\n",
    "\n",
    "#DO YOUR OPERATIONS HERE\n",
    "\n",
    "now = time.time() #Time after it finished\n",
    "\n",
    "print(\"It took: \", now-then, \" seconds\")\n",
    "\n"
   ]
  },
  {
   "cell_type": "code",
   "execution_count": null,
   "id": "8818cfd1",
   "metadata": {},
   "outputs": [],
   "source": []
  }
 ],
 "metadata": {
  "kernelspec": {
   "display_name": "Python 3 (ipykernel)",
   "language": "python",
   "name": "python3"
  },
  "language_info": {
   "codemirror_mode": {
    "name": "ipython",
    "version": 3
   },
   "file_extension": ".py",
   "mimetype": "text/x-python",
   "name": "python",
   "nbconvert_exporter": "python",
   "pygments_lexer": "ipython3",
   "version": "3.10.8"
  }
 },
 "nbformat": 4,
 "nbformat_minor": 5
}
