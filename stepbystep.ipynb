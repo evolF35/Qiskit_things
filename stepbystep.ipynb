{
 "cells": [
  {
   "cell_type": "code",
   "execution_count": 1,
   "id": "e3c17571",
   "metadata": {},
   "outputs": [],
   "source": [
    "import matplotlib.pyplot as plt\n",
    "import numpy as np\n",
    "from qiskit import QuantumCircuit, Aer, transpile, assemble\n",
    "from qiskit.visualization import plot_histogram\n",
    "from math import gcd\n",
    "from numpy.random import randint\n",
    "import pandas as pd\n",
    "from fractions import Fraction\n",
    "\n"
   ]
  },
  {
   "cell_type": "code",
   "execution_count": 2,
   "id": "d9f3aaaf",
   "metadata": {},
   "outputs": [],
   "source": [
    "def c_amod15(a, power):\n",
    "    U = QuantumCircuit()        \n",
    "    U = U.to_gate()\n",
    "    U.name = \"%i^%i mod 33499\" % (a, power)\n",
    "    c_U = U.control()\n",
    "    return c_U\n"
   ]
  },
  {
   "cell_type": "code",
   "execution_count": 3,
   "id": "aa3e04a0",
   "metadata": {},
   "outputs": [],
   "source": [
    "def qft_dagger(n):\n",
    "    \"\"\"n-qubit QFTdagger the first n qubits in circ\"\"\"\n",
    "    qc = QuantumCircuit(n)\n",
    "    for qubit in range(n//2):\n",
    "        qc.swap(qubit, n-qubit-1)\n",
    "    for j in range(n):\n",
    "        for m in range(j):\n",
    "            qc.cp(-np.pi/float(2**(j-m)), m, j)\n",
    "        qc.h(j)\n",
    "    qc.name = \"QFT†\"\n",
    "    return qc\n"
   ]
  },
  {
   "cell_type": "code",
   "execution_count": 9,
   "id": "9ed346ce",
   "metadata": {},
   "outputs": [
    {
     "data": {
      "text/plain": [
       "\"\\nqc.x(10+n_count)\\n\\nfor q in range(n_count):\\n    qc.append(c_amod15(a, 2**q), \\n             [q] + [i+n_count for i in range(16)])\\n\\nqc.append(qft_dagger(n_count), range(n_count))\\n\\nqc.measure(range(n_count), range(n_count))\\nqc.draw(fold=-1)  # -1 means 'do not fold'\\n\""
      ]
     },
     "execution_count": 9,
     "metadata": {},
     "output_type": "execute_result"
    }
   ],
   "source": [
    "n_count = 40  # number of counting qubits\n",
    "a = 2\n",
    "N = 33499\n",
    "\n",
    "qc = QuantumCircuit(n_count + 16, n_count)\n",
    "\n",
    "for q in range(n_count):\n",
    "    qc.h(q)\n",
    "\"\"\"\n",
    "qc.x(10+n_count)\n",
    "\n",
    "for q in range(n_count):\n",
    "    qc.append(c_amod15(a, 2**q), \n",
    "             [q] + [i+n_count for i in range(16)])\n",
    "\n",
    "qc.append(qft_dagger(n_count), range(n_count))\n",
    "\n",
    "qc.measure(range(n_count), range(n_count))\n",
    "qc.draw(fold=-1)  # -1 means 'do not fold'\n",
    "\"\"\""
   ]
  },
  {
   "cell_type": "code",
   "execution_count": 5,
   "id": "d770281c",
   "metadata": {},
   "outputs": [
    {
     "data": {
      "text/plain": [
       "<AccountProvider for IBMQ(hub='ibm-q', group='open', project='main')>"
      ]
     },
     "execution_count": 5,
     "metadata": {},
     "output_type": "execute_result"
    }
   ],
   "source": [
    "from qiskit import QuantumCircuit, transpile\n",
    "from qiskit.providers.aer import AerSimulator\n",
    "from qiskit.tools.visualization import plot_histogram\n",
    "from qiskit import QuantumCircuit, Aer, transpile, assemble\n",
    "import random\n",
    "\n",
    "import os\n",
    "from dotenv import load_dotenv\n",
    "\n",
    "load_dotenv()\n",
    "\n",
    "MY_ENV_VAR = os.getenv(\"IBM_TOKEN\")\n",
    "\n",
    "extended_stabilizer_simulator = AerSimulator(method='statevector')\n",
    "\n",
    "import os\n",
    "key = os.environ.get('IBM_TOKEN')\n",
    "\n",
    "from qiskit import IBMQ\n",
    "\n",
    "IBMQ.save_account(token=key,overwrite=True)\n",
    "IBMQ.load_account()"
   ]
  },
  {
   "cell_type": "code",
   "execution_count": 6,
   "id": "3f9b3a90",
   "metadata": {},
   "outputs": [
    {
     "name": "stdout",
     "output_type": "stream",
     "text": [
      "This succeeded?: True\n",
      "Why not? COMPLETED\n"
     ]
    }
   ],
   "source": [
    "extended_stabilizer_simulator = AerSimulator(method='extended_stabilizer')\n",
    "\n",
    "#extended_stabilizer_result = extended_stabilizer_simulator.run(tcirc, shots=1).result()\n",
    "#print('This succeeded?: {}'.format(extended_stabilizer_result.success))\n",
    "\n",
    "aer_sim = Aer.get_backend('aer_simulator')\n",
    "t_qc = transpile(qc, extended_stabilizer_simulator)\n",
    "extended_stabilizer_result = extended_stabilizer_simulator.run(t_qc, shots=1).result()\n",
    "\n",
    "print('This succeeded?: {}'.format(extended_stabilizer_result.success))\n",
    "print('Why not? {}'.format(extended_stabilizer_result.status))\n",
    "\n",
    "#results = aer_sim.run(t_qc).result()\n",
    "#counts = results.get_counts()\n",
    "#plot_histogram(counts)\n"
   ]
  },
  {
   "cell_type": "code",
   "execution_count": null,
   "id": "624ee35c",
   "metadata": {},
   "outputs": [],
   "source": []
  }
 ],
 "metadata": {
  "kernelspec": {
   "display_name": "Python 3 (ipykernel)",
   "language": "python",
   "name": "python3"
  },
  "language_info": {
   "codemirror_mode": {
    "name": "ipython",
    "version": 3
   },
   "file_extension": ".py",
   "mimetype": "text/x-python",
   "name": "python",
   "nbconvert_exporter": "python",
   "pygments_lexer": "ipython3",
   "version": "3.10.8"
  }
 },
 "nbformat": 4,
 "nbformat_minor": 5
}
