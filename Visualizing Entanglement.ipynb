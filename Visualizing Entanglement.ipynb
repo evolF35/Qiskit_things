{
 "cells": [
  {
   "cell_type": "code",
   "execution_count": 13,
   "id": "269773f5",
   "metadata": {},
   "outputs": [
    {
     "ename": "ModuleNotFoundError",
     "evalue": "No module named 'hello_qiskit'",
     "output_type": "error",
     "traceback": [
      "\u001b[0;31m---------------------------------------------------------------------------\u001b[0m",
      "\u001b[0;31mModuleNotFoundError\u001b[0m                       Traceback (most recent call last)",
      "Cell \u001b[0;32mIn [13], line 1\u001b[0m\n\u001b[0;32m----> 1\u001b[0m \u001b[38;5;28;01mimport\u001b[39;00m \u001b[38;5;21;01mhello_qiskit\u001b[39;00m\n\u001b[1;32m      2\u001b[0m \u001b[38;5;28;01mfrom\u001b[39;00m \u001b[38;5;21;01mhello_qiskit\u001b[39;00m \u001b[38;5;28;01mimport\u001b[39;00m run_puzzle\n\u001b[1;32m      4\u001b[0m puzzle \u001b[38;5;241m=\u001b[39m run_puzzle(\u001b[38;5;241m0\u001b[39m)\n",
      "\u001b[0;31mModuleNotFoundError\u001b[0m: No module named 'hello_qiskit'"
     ]
    }
   ],
   "source": [
    "import hello_qiskit\n",
    "from hello_qiskit import run_puzzle\n",
    "\n",
    "puzzle = run_puzzle(0)"
   ]
  },
  {
   "cell_type": "code",
   "execution_count": null,
   "id": "142b7532",
   "metadata": {},
   "outputs": [],
   "source": []
  }
 ],
 "metadata": {
  "kernelspec": {
   "display_name": "Python 3 (ipykernel)",
   "language": "python",
   "name": "python3"
  },
  "language_info": {
   "codemirror_mode": {
    "name": "ipython",
    "version": 3
   },
   "file_extension": ".py",
   "mimetype": "text/x-python",
   "name": "python",
   "nbconvert_exporter": "python",
   "pygments_lexer": "ipython3",
   "version": "3.10.8"
  }
 },
 "nbformat": 4,
 "nbformat_minor": 5
}
