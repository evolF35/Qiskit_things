{
 "cells": [
  {
   "cell_type": "code",
   "execution_count": 1,
   "id": "1e331825",
   "metadata": {},
   "outputs": [
    {
     "data": {
      "text/plain": [
       "'Statevector([1.+0.j, 0.+0.j, 0.+0.j, 0.+0.j],\\n            dims=(2, 2))'"
      ]
     },
     "execution_count": 1,
     "metadata": {},
     "output_type": "execute_result"
    }
   ],
   "source": [
    "from qiskit import QuantumCircuit\n",
    "from qiskit.quantum_info import Statevector\n",
    "\n",
    "qc = QuantumCircuit(2)\n",
    "\n",
    "# This calculates what the state vector of our qubits would be\n",
    "# after passing through the circuit 'qc'\n",
    "ket = Statevector(qc)\n",
    "\n",
    "# The code below writes down the state vector.\n",
    "# Since it's the last line in the cell, the cell will display it as output\n",
    "ket.draw()\n",
    "\n"
   ]
  },
  {
   "cell_type": "code",
   "execution_count": 2,
   "id": "fd699d44",
   "metadata": {},
   "outputs": [
    {
     "data": {
      "text/plain": [
       "'Statevector([1.+0.j, 0.+0.j, 0.+0.j, 0.+0.j],\\n            dims=(2, 2))'"
      ]
     },
     "execution_count": 2,
     "metadata": {},
     "output_type": "execute_result"
    }
   ],
   "source": [
    "qc.cx(0,1)\n",
    "\n",
    "ket = Statevector(qc)\n",
    "ket.draw()\n"
   ]
  },
  {
   "cell_type": "code",
   "execution_count": 3,
   "id": "a0db80eb",
   "metadata": {},
   "outputs": [
    {
     "data": {
      "text/plain": [
       "'Statevector([1.+0.j, 0.+0.j, 0.+0.j, 0.+0.j],\\n            dims=(2, 2))'"
      ]
     },
     "execution_count": 3,
     "metadata": {},
     "output_type": "execute_result"
    }
   ],
   "source": [
    "qc.cx(1,0)\n",
    "\n",
    "ket = Statevector(qc)\n",
    "ket.draw()\n"
   ]
  },
  {
   "cell_type": "code",
   "execution_count": 4,
   "id": "5e460e8b",
   "metadata": {},
   "outputs": [
    {
     "data": {
      "text/plain": [
       "'Statevector([0.+0.j, 0.+0.j, 1.+0.j, 0.+0.j],\\n            dims=(2, 2))'"
      ]
     },
     "execution_count": 4,
     "metadata": {},
     "output_type": "execute_result"
    }
   ],
   "source": [
    "qc.x(1)\n",
    "\n",
    "ket = Statevector(qc)\n",
    "ket.draw()\n"
   ]
  },
  {
   "cell_type": "code",
   "execution_count": 5,
   "id": "ef0802cb",
   "metadata": {},
   "outputs": [
    {
     "data": {
      "text/plain": [
       "'Statevector([0.+0.j, 0.+0.j, 0.+0.j, 1.+0.j],\\n            dims=(2, 2))'"
      ]
     },
     "execution_count": 5,
     "metadata": {},
     "output_type": "execute_result"
    }
   ],
   "source": [
    "qc.cx(1,0)\n",
    "\n",
    "ket = Statevector(qc)\n",
    "ket.draw()\n"
   ]
  },
  {
   "cell_type": "code",
   "execution_count": 6,
   "id": "a8620511",
   "metadata": {},
   "outputs": [
    {
     "data": {
      "text/plain": [
       "'Statevector([0.70710678+0.j, 0.        +0.j, 0.70710678+0.j,\\n             0.        +0.j],\\n            dims=(2, 2))'"
      ]
     },
     "execution_count": 6,
     "metadata": {},
     "output_type": "execute_result"
    }
   ],
   "source": [
    "# Let's create a fresh quantum circuit\n",
    "qc = QuantumCircuit(2)\n",
    "\n",
    "qc.h(1)\n",
    "\n",
    "ket = Statevector(qc)\n",
    "ket.draw()\n",
    "\n"
   ]
  },
  {
   "cell_type": "code",
   "execution_count": 7,
   "id": "e0a1560d",
   "metadata": {},
   "outputs": [
    {
     "data": {
      "text/plain": [
       "'Statevector([0.70710678+0.j, 0.        +0.j, 0.        +0.j,\\n             0.70710678+0.j],\\n            dims=(2, 2))'"
      ]
     },
     "execution_count": 7,
     "metadata": {},
     "output_type": "execute_result"
    }
   ],
   "source": [
    "qc.cx(1,0)\n",
    "\n",
    "ket = Statevector(qc)\n",
    "ket.draw()\n",
    "\n"
   ]
  },
  {
   "cell_type": "code",
   "execution_count": 8,
   "id": "ecd20df5",
   "metadata": {},
   "outputs": [],
   "source": [
    "\n",
    "\n",
    "# The message\n",
    "MESSAGE = '00'\n",
    "\n",
    "# Alice encodes the message\n",
    "qc_alice = QuantumCircuit(2, 2)\n",
    "if MESSAGE[-1]=='1':\n",
    "    qc_alice.x(0)\n",
    "if MESSAGE[-2]=='1':\n",
    "    qc_alice.x(1)\n",
    "    \n",
    "    \n",
    "    "
   ]
  },
  {
   "cell_type": "code",
   "execution_count": 9,
   "id": "887fc188",
   "metadata": {},
   "outputs": [
    {
     "data": {
      "text/plain": [
       "{'00': 1024}"
      ]
     },
     "execution_count": 9,
     "metadata": {},
     "output_type": "execute_result"
    }
   ],
   "source": [
    "from qiskit import Aer\n",
    "backend = Aer.get_backend('aer_simulator')\n",
    "\n",
    "# Bob measures\n",
    "qc_bob = QuantumCircuit(2,2)\n",
    "qc_bob.measure([0,1],[0,1])\n",
    "\n",
    "backend.run(qc_alice.compose(qc_bob)).result().get_counts()\n",
    "\n"
   ]
  },
  {
   "cell_type": "code",
   "execution_count": 10,
   "id": "96de7b04",
   "metadata": {},
   "outputs": [
    {
     "data": {
      "text/plain": [
       "'Statevector([0.70710678+0.j, 0.        +0.j, 0.        +0.j,\\n             0.70710678+0.j],\\n            dims=(2, 2))'"
      ]
     },
     "execution_count": 10,
     "metadata": {},
     "output_type": "execute_result"
    }
   ],
   "source": [
    "MESSAGE = '00'\n",
    "\n",
    "qc_alice = QuantumCircuit(2,2)\n",
    "\n",
    "if MESSAGE[-1] == '1':\n",
    "    qc_alice.x(0)\n",
    "if MESSAGE[-2] == '1':\n",
    "    qc_alice.x(1)\n",
    "    \n",
    "qc_alice.h(1)\n",
    "qc_alice.cx(1,0)\n",
    "\n",
    "ket = Statevector(qc_alice)\n",
    "ket.draw()\n",
    "\n"
   ]
  },
  {
   "cell_type": "code",
   "execution_count": 11,
   "id": "a18d5b05",
   "metadata": {},
   "outputs": [
    {
     "data": {
      "text/html": [
       "<pre style=\"word-wrap: normal;white-space: pre;background: #fff0;line-height: 1.1;font-family: &quot;Courier New&quot;,Courier,monospace\">     ┌───┐     ┌─┐   \n",
       "q_0: ┤ X ├─────┤M├───\n",
       "     └─┬─┘┌───┐└╥┘┌─┐\n",
       "q_1: ──■──┤ H ├─╫─┤M├\n",
       "          └───┘ ║ └╥┘\n",
       "c_0: ═══════════╩══╬═\n",
       "                   ║ \n",
       "c_1: ══════════════╩═\n",
       "                     </pre>"
      ],
      "text/plain": [
       "     ┌───┐     ┌─┐   \n",
       "q_0: ┤ X ├─────┤M├───\n",
       "     └─┬─┘┌───┐└╥┘┌─┐\n",
       "q_1: ──■──┤ H ├─╫─┤M├\n",
       "          └───┘ ║ └╥┘\n",
       "c_0: ═══════════╩══╬═\n",
       "                   ║ \n",
       "c_1: ══════════════╩═\n",
       "                     "
      ]
     },
     "execution_count": 11,
     "metadata": {},
     "output_type": "execute_result"
    }
   ],
   "source": [
    "qc_bob = QuantumCircuit(2,2)\n",
    "# Bob disentangles\n",
    "qc_bob.cx(1,0)\n",
    "qc_bob.h(1)\n",
    "# Then measures\n",
    "qc_bob.measure([0,1],[0,1])\n",
    "\n",
    "qc_bob.draw()\n",
    "\n"
   ]
  },
  {
   "cell_type": "code",
   "execution_count": null,
   "id": "4dddc19f",
   "metadata": {},
   "outputs": [],
   "source": [
    "\n",
    "\n",
    "\n"
   ]
  }
 ],
 "metadata": {
  "kernelspec": {
   "display_name": "Python 3 (ipykernel)",
   "language": "python",
   "name": "python3"
  },
  "language_info": {
   "codemirror_mode": {
    "name": "ipython",
    "version": 3
   },
   "file_extension": ".py",
   "mimetype": "text/x-python",
   "name": "python",
   "nbconvert_exporter": "python",
   "pygments_lexer": "ipython3",
   "version": "3.10.8"
  }
 },
 "nbformat": 4,
 "nbformat_minor": 5
}
