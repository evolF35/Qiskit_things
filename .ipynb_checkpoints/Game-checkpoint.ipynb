{
 "cells": [
  {
   "cell_type": "code",
   "execution_count": 20,
   "id": "ffcf5520",
   "metadata": {},
   "outputs": [
    {
     "name": "stdout",
     "output_type": "stream",
     "text": [
      "Hello! I'm a code cell\n"
     ]
    }
   ],
   "source": [
    "print(\"Hello! I'm a code cell\")\n"
   ]
  },
  {
   "cell_type": "code",
   "execution_count": 22,
   "id": "913ad97a",
   "metadata": {},
   "outputs": [
    {
     "name": "stdout",
     "output_type": "stream",
     "text": [
      "Set up started...\n",
      "Set up complete!\n"
     ]
    }
   ],
   "source": [
    "print('Set up started...')\n",
    "from qiskit_textbook.games import hello_quantum\n",
    "print('Set up complete!')\n"
   ]
  },
  {
   "cell_type": "code",
   "execution_count": 26,
   "id": "5afc4de5",
   "metadata": {},
   "outputs": [
    {
     "data": {
      "application/vnd.jupyter.widget-view+json": {
       "model_id": "dc612cfb48db43a6b5122798c89accc5",
       "version_major": 2,
       "version_minor": 0
      },
      "text/plain": [
       "Image(value=b'\\x89PNG\\r\\n\\x1a\\n\\x00\\x00\\x00\\rIHDR\\x00\\x00\\x02X\\x00\\x00\\x02X\\x08\\x06\\x00\\x00\\x00\\xbef\\x98\\xdc\\x…"
      ]
     },
     "metadata": {},
     "output_type": "display_data"
    },
    {
     "ename": "TypeError",
     "evalue": "can't multiply sequence by non-int of type 'list'",
     "output_type": "error",
     "traceback": [
      "\u001b[0;31m---------------------------------------------------------------------------\u001b[0m",
      "\u001b[0;31mTypeError\u001b[0m                                 Traceback (most recent call last)",
      "Cell \u001b[0;32mIn [26], line 11\u001b[0m\n\u001b[1;32m      7\u001b[0m vi \u001b[38;5;241m=\u001b[39m [ [\u001b[38;5;241m1\u001b[39m], [\u001b[38;5;241m1\u001b[39m], \u001b[38;5;28;01mFalse\u001b[39;00m]\n\u001b[1;32m      9\u001b[0m qubit_names \u001b[38;5;241m=\u001b[39m {\u001b[38;5;124m'\u001b[39m\u001b[38;5;124m0\u001b[39m\u001b[38;5;124m'\u001b[39m:\u001b[38;5;124m'\u001b[39m\u001b[38;5;124mthe only bit\u001b[39m\u001b[38;5;124m'\u001b[39m, \u001b[38;5;124m'\u001b[39m\u001b[38;5;124m1\u001b[39m\u001b[38;5;124m'\u001b[39m:\u001b[38;5;28;01mNone\u001b[39;00m}\n\u001b[0;32m---> 11\u001b[0m puzzle \u001b[38;5;241m=\u001b[39m \u001b[43mhello_quantum\u001b[49m\u001b[38;5;241;43m.\u001b[39;49m\u001b[43mrun_game\u001b[49m\u001b[43m(\u001b[49m\u001b[43minitialize\u001b[49m\u001b[43m,\u001b[49m\u001b[43m \u001b[49m\u001b[43msuccess_condition\u001b[49m\u001b[43m,\u001b[49m\u001b[43m \u001b[49m\u001b[43mallowed_gates\u001b[49m\u001b[43m,\u001b[49m\u001b[43m \u001b[49m\u001b[43mvi\u001b[49m\u001b[43m,\u001b[49m\u001b[43m \u001b[49m\u001b[43mqubit_names\u001b[49m\u001b[43m)\u001b[49m\n",
      "File \u001b[0;32m~/Desktop/Qiskit_things/virtual/intro/lib/python3.10/site-packages/qiskit_textbook/games/hello_quantum.py:138\u001b[0m, in \u001b[0;36mrun_game.__init__\u001b[0;34m(self, initialize, success_condition, allowed_gates, vi, qubit_names, eps, backend, shots, mode, verbose)\u001b[0m\n\u001b[1;32m    133\u001b[0m grid\u001b[38;5;241m.\u001b[39mupdate_grid(bloch\u001b[38;5;241m=\u001b[39mbloch[\u001b[38;5;241m0\u001b[39m],hidden\u001b[38;5;241m=\u001b[39mvi[\u001b[38;5;241m0\u001b[39m],qubit\u001b[38;5;241m=\u001b[39mvi[\u001b[38;5;241m1\u001b[39m],corr\u001b[38;5;241m=\u001b[39mvi[\u001b[38;5;241m2\u001b[39m],message\u001b[38;5;241m=\u001b[39mget_total_gate_list(),output\u001b[38;5;241m=\u001b[39mgrid_view)\n\u001b[1;32m    134\u001b[0m display(grid_view\u001b[38;5;241m.\u001b[39mwidget)\n\u001b[0;32m--> 138\u001b[0m description \u001b[38;5;241m=\u001b[39m {\u001b[38;5;124m'\u001b[39m\u001b[38;5;124mgate\u001b[39m\u001b[38;5;124m'\u001b[39m:[\u001b[38;5;124m'\u001b[39m\u001b[38;5;124mChoose gate\u001b[39m\u001b[38;5;124m'\u001b[39m],\u001b[38;5;124m'\u001b[39m\u001b[38;5;124mqubit\u001b[39m\u001b[38;5;124m'\u001b[39m:[\u001b[38;5;124m'\u001b[39m\u001b[38;5;124mChoose \u001b[39m\u001b[38;5;124m'\u001b[39m\u001b[38;5;241m+\u001b[39m\u001b[38;5;124;43m'\u001b[39;49m\u001b[38;5;124;43mqu\u001b[39;49m\u001b[38;5;124;43m'\u001b[39;49m\u001b[38;5;241;43m*\u001b[39;49m\u001b[43mvi\u001b[49m\u001b[43m[\u001b[49m\u001b[38;5;241;43m1\u001b[39;49m\u001b[43m]\u001b[49m\u001b[38;5;241m+\u001b[39m\u001b[38;5;124m'\u001b[39m\u001b[38;5;124mbit\u001b[39m\u001b[38;5;124m'\u001b[39m],\u001b[38;5;124m'\u001b[39m\u001b[38;5;124maction\u001b[39m\u001b[38;5;124m'\u001b[39m:[\u001b[38;5;124m'\u001b[39m\u001b[38;5;124mMake it happen!\u001b[39m\u001b[38;5;124m'\u001b[39m]}\n\u001b[1;32m    140\u001b[0m all_allowed_gates_raw \u001b[38;5;241m=\u001b[39m []\n\u001b[1;32m    141\u001b[0m \u001b[38;5;28;01mfor\u001b[39;00m q \u001b[38;5;129;01min\u001b[39;00m [\u001b[38;5;124m'\u001b[39m\u001b[38;5;124m0\u001b[39m\u001b[38;5;124m'\u001b[39m,\u001b[38;5;124m'\u001b[39m\u001b[38;5;124m1\u001b[39m\u001b[38;5;124m'\u001b[39m,\u001b[38;5;124m'\u001b[39m\u001b[38;5;124mboth\u001b[39m\u001b[38;5;124m'\u001b[39m]:\n",
      "\u001b[0;31mTypeError\u001b[0m: can't multiply sequence by non-int of type 'list'"
     ]
    }
   ],
   "source": [
    "initialize = []\n",
    "\n",
    "success_condition = {}\n",
    "\n",
    "allowed_gates = {'0': {'NOT': 3}, '1': {}, 'both': {}}\n",
    "\n",
    "vi = [ [1], False, False]\n",
    "\n",
    "qubit_names = {'0':'the only bit', '1':None}\n",
    "\n",
    "puzzle = hello_quantum.run_game(initialize, success_condition, allowed_gates, vi, qubit_names)"
   ]
  },
  {
   "cell_type": "code",
   "execution_count": null,
   "id": "6461f6c1",
   "metadata": {},
   "outputs": [],
   "source": []
  }
 ],
 "metadata": {
  "kernelspec": {
   "display_name": "Python 3 (ipykernel)",
   "language": "python",
   "name": "python3"
  },
  "language_info": {
   "codemirror_mode": {
    "name": "ipython",
    "version": 3
   },
   "file_extension": ".py",
   "mimetype": "text/x-python",
   "name": "python",
   "nbconvert_exporter": "python",
   "pygments_lexer": "ipython3",
   "version": "3.10.8"
  }
 },
 "nbformat": 4,
 "nbformat_minor": 5
}
