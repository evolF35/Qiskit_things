{
 "cells": [
  {
   "cell_type": "code",
   "execution_count": 3,
   "id": "1657d01a",
   "metadata": {},
   "outputs": [],
   "source": [
    "# 1. Create a simple quantum program called a 'quantum circuit'.\n",
    "from qiskit import QuantumCircuit\n",
    "qc = QuantumCircuit(3)\n",
    "qc.h(0)\n",
    "qc.cx(0, [1, 2])\n",
    "qc.measure_all()\n"
   ]
  },
  {
   "cell_type": "code",
   "execution_count": 4,
   "id": "e40eb5e2",
   "metadata": {},
   "outputs": [
    {
     "ename": "IBMQProviderError",
     "evalue": "'No provider matches the specified criteria: hub = ibm-q, group = None, project = None'",
     "output_type": "error",
     "traceback": [
      "\u001b[0;31m---------------------------------------------------------------------------\u001b[0m",
      "\u001b[0;31mIBMQProviderError\u001b[0m                         Traceback (most recent call last)",
      "Cell \u001b[0;32mIn [4], line 7\u001b[0m\n\u001b[1;32m      1\u001b[0m \u001b[38;5;66;03m# 2. Ask IBM Quantum for its least busy device that isn't a simulator.\u001b[39;00m\n\u001b[1;32m      2\u001b[0m \u001b[38;5;66;03m#    If you're running this example locally, you need to load your\u001b[39;00m\n\u001b[1;32m      3\u001b[0m \u001b[38;5;66;03m#    account with your IBM Quantum API token\u001b[39;00m\n\u001b[1;32m      4\u001b[0m \u001b[38;5;66;03m# IBMQ.save_account(token=\"XYZ\")\u001b[39;00m\n\u001b[1;32m      5\u001b[0m \u001b[38;5;66;03m# IBMQ.load_account()\u001b[39;00m\n\u001b[1;32m      6\u001b[0m \u001b[38;5;28;01mfrom\u001b[39;00m \u001b[38;5;21;01mqiskit\u001b[39;00m\u001b[38;5;21;01m.\u001b[39;00m\u001b[38;5;21;01mproviders\u001b[39;00m\u001b[38;5;21;01m.\u001b[39;00m\u001b[38;5;21;01mibmq\u001b[39;00m \u001b[38;5;28;01mimport\u001b[39;00m IBMQ, least_busy\n\u001b[0;32m----> 7\u001b[0m provider \u001b[38;5;241m=\u001b[39m \u001b[43mIBMQ\u001b[49m\u001b[38;5;241;43m.\u001b[39;49m\u001b[43mget_provider\u001b[49m\u001b[43m(\u001b[49m\u001b[38;5;124;43m'\u001b[39;49m\u001b[38;5;124;43mibm-q\u001b[39;49m\u001b[38;5;124;43m'\u001b[39;49m\u001b[43m)\u001b[49m\n\u001b[1;32m      8\u001b[0m device \u001b[38;5;241m=\u001b[39m least_busy(\n\u001b[1;32m      9\u001b[0m             provider\u001b[38;5;241m.\u001b[39mbackends(\n\u001b[1;32m     10\u001b[0m                 filters\u001b[38;5;241m=\u001b[39m \u001b[38;5;28;01mlambda\u001b[39;00m x: \u001b[38;5;129;01mnot\u001b[39;00m x\u001b[38;5;241m.\u001b[39mconfiguration()\u001b[38;5;241m.\u001b[39msimulator\n\u001b[1;32m     11\u001b[0m             )\n\u001b[1;32m     12\u001b[0m         )\n\u001b[1;32m     13\u001b[0m \u001b[38;5;28mprint\u001b[39m(\u001b[38;5;124mf\u001b[39m\u001b[38;5;124m'\u001b[39m\u001b[38;5;124mRunning on \u001b[39m\u001b[38;5;132;01m{\u001b[39;00mdevice\u001b[38;5;241m.\u001b[39mname()\u001b[38;5;132;01m}\u001b[39;00m\u001b[38;5;124m'\u001b[39m)\n",
      "File \u001b[0;32m~/Desktop/Qiskit_things/virtual/intro/lib/python3.10/site-packages/qiskit/providers/ibmq/ibmqfactory.py:423\u001b[0m, in \u001b[0;36mIBMQFactory.get_provider\u001b[0;34m(self, hub, group, project)\u001b[0m\n\u001b[1;32m    420\u001b[0m providers \u001b[38;5;241m=\u001b[39m \u001b[38;5;28mself\u001b[39m\u001b[38;5;241m.\u001b[39mproviders(hub, group, project)\n\u001b[1;32m    422\u001b[0m \u001b[38;5;28;01mif\u001b[39;00m \u001b[38;5;129;01mnot\u001b[39;00m providers:\n\u001b[0;32m--> 423\u001b[0m     \u001b[38;5;28;01mraise\u001b[39;00m IBMQProviderError(\u001b[38;5;124m'\u001b[39m\u001b[38;5;124mNo provider matches the specified criteria: \u001b[39m\u001b[38;5;124m'\u001b[39m\n\u001b[1;32m    424\u001b[0m                             \u001b[38;5;124m'\u001b[39m\u001b[38;5;124mhub = \u001b[39m\u001b[38;5;132;01m{}\u001b[39;00m\u001b[38;5;124m, group = \u001b[39m\u001b[38;5;132;01m{}\u001b[39;00m\u001b[38;5;124m, project = \u001b[39m\u001b[38;5;132;01m{}\u001b[39;00m\u001b[38;5;124m'\u001b[39m\n\u001b[1;32m    425\u001b[0m                             \u001b[38;5;241m.\u001b[39mformat(hub, group, project))\n\u001b[1;32m    426\u001b[0m \u001b[38;5;28;01mif\u001b[39;00m \u001b[38;5;28mlen\u001b[39m(providers) \u001b[38;5;241m>\u001b[39m \u001b[38;5;241m1\u001b[39m:\n\u001b[1;32m    427\u001b[0m     \u001b[38;5;28;01mraise\u001b[39;00m IBMQProviderError(\u001b[38;5;124m'\u001b[39m\u001b[38;5;124mMore than one provider matches the specified criteria.\u001b[39m\u001b[38;5;124m'\u001b[39m\n\u001b[1;32m    428\u001b[0m                             \u001b[38;5;124m'\u001b[39m\u001b[38;5;124mhub = \u001b[39m\u001b[38;5;132;01m{}\u001b[39;00m\u001b[38;5;124m, group = \u001b[39m\u001b[38;5;132;01m{}\u001b[39;00m\u001b[38;5;124m, project = \u001b[39m\u001b[38;5;132;01m{}\u001b[39;00m\u001b[38;5;124m'\u001b[39m\n\u001b[1;32m    429\u001b[0m                             \u001b[38;5;241m.\u001b[39mformat(hub, group, project))\n",
      "\u001b[0;31mIBMQProviderError\u001b[0m: 'No provider matches the specified criteria: hub = ibm-q, group = None, project = None'"
     ]
    }
   ],
   "source": [
    "# 2. Ask IBM Quantum for its least busy device that isn't a simulator.\n",
    "#    If you're running this example locally, you need to load your\n",
    "#    account with your IBM Quantum API token\n",
    "# IBMQ.save_account(token=\"XYZ\")\n",
    "# IBMQ.load_account()\n",
    "\n",
    "\n",
    "from qiskit.providers.ibmq import IBMQ, least_busy\n",
    "provider = IBMQ.get_provider('ibm-q')\n",
    "device = least_busy(\n",
    "            provider.backends(\n",
    "                filters= lambda x: not x.configuration().simulator\n",
    "            )\n",
    "        )\n",
    "print(f'Running on {device.name()}')\n",
    "\n"
   ]
  },
  {
   "cell_type": "code",
   "execution_count": null,
   "id": "bf41cdeb",
   "metadata": {},
   "outputs": [],
   "source": []
  }
 ],
 "metadata": {
  "kernelspec": {
   "display_name": "Python 3 (ipykernel)",
   "language": "python",
   "name": "python3"
  },
  "language_info": {
   "codemirror_mode": {
    "name": "ipython",
    "version": 3
   },
   "file_extension": ".py",
   "mimetype": "text/x-python",
   "name": "python",
   "nbconvert_exporter": "python",
   "pygments_lexer": "ipython3",
   "version": "3.10.8"
  }
 },
 "nbformat": 4,
 "nbformat_minor": 5
}
